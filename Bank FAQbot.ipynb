{
 "cells": [
  {
   "cell_type": "markdown",
   "metadata": {},
   "source": [
    "# Directory & Packages"
   ]
  },
  {
   "cell_type": "code",
   "execution_count": 1,
   "metadata": {},
   "outputs": [],
   "source": [
    "import pandas as pd\n",
    "import numpy as np\n",
    "import pickle\n",
    "import operator\n",
    "from sklearn.svm import SVC\n",
    "from sklearn.model_selection import train_test_split as tts\n",
    "from sklearn.feature_extraction.text import TfidfVectorizer\n",
    "from sklearn.preprocessing import LabelEncoder as LE\n",
    "from sklearn.metrics.pairwise import cosine_similarity\n",
    "import random\n",
    "import nltk\n",
    "from nltk.stem.lancaster import LancasterStemmer"
   ]
  },
  {
   "cell_type": "code",
   "execution_count": 2,
   "metadata": {},
   "outputs": [],
   "source": [
    "stemmer = LancasterStemmer()\n",
    "le = LE()\n",
    "tfv = TfidfVectorizer(min_df=1, stop_words='english')"
   ]
  },
  {
   "cell_type": "markdown",
   "metadata": {},
   "source": [
    "# Helper Functions"
   ]
  },
  {
   "cell_type": "code",
   "execution_count": null,
   "metadata": {},
   "outputs": [],
   "source": [
    "def cleanup(sentence):\n",
    "    word_tok = nltk.word_tokenize(sentence)\n",
    "    stemmed_words = [stemmer.stem(w) for w in word_tok]\n",
    "\n",
    "    return ' '.join(stemmed_words)"
   ]
  },
  {
   "cell_type": "code",
   "execution_count": 7,
   "metadata": {},
   "outputs": [],
   "source": [
    "def get_max5(arr):\n",
    "    ixarr = []\n",
    "    for ix, el in enumerate(arr):\n",
    "        ixarr.append((el, ix))\n",
    "    ixarr.sort()\n",
    "\n",
    "    ixs = []\n",
    "    for i in ixarr[-5:]:\n",
    "        ixs.append(i[1])\n",
    "\n",
    "    return ixs[::-1]"
   ]
  },
  {
   "cell_type": "code",
   "execution_count": 8,
   "metadata": {},
   "outputs": [],
   "source": [
    "def chat():\n",
    "    cnt = 0\n",
    "    print(\"PRESS Q to QUIT\")\n",
    "    print(\"TYPE \\\"DEBUG\\\" to Display Debugging statements.\")\n",
    "    print(\"TYPE \\\"STOP\\\" to Stop Debugging statements.\")\n",
    "    print(\"TYPE \\\"TOP5\\\" to Display 5 most relevent results\")\n",
    "    print(\"TYPE \\\"CONF\\\" to Display the most confident result\")\n",
    "    print()\n",
    "    print()\n",
    "    DEBUG = False\n",
    "    TOP5 = False\n",
    "\n",
    "    print(\"Bot: Hi, Welcome to our bank!\")\n",
    "    while True:\n",
    "        usr = input(\"You: \")\n",
    "\n",
    "        if usr.lower() == 'yes':\n",
    "            print(\"Bot: Yes!\")\n",
    "            continue\n",
    "\n",
    "        if usr.lower() == 'no':\n",
    "            print(\"Bot: No?\")\n",
    "            continue\n",
    "\n",
    "        if usr == 'DEBUG':\n",
    "            DEBUG = True\n",
    "            print(\"Debugging mode on\")\n",
    "            continue\n",
    "\n",
    "        if usr == 'STOP':\n",
    "            DEBUG = False\n",
    "            print(\"Debugging mode off\")\n",
    "            continue\n",
    "\n",
    "        if usr == 'Q':\n",
    "            print(\"Bot: It was good to be of help.\")\n",
    "            break\n",
    "\n",
    "        if usr == 'TOP5':\n",
    "            TOP5 = True\n",
    "            print(\"Will display 5 most relevent results now\")\n",
    "            continue\n",
    "\n",
    "        if usr == 'CONF':\n",
    "            TOP5 = False\n",
    "            print(\"Only the most relevent result will be displayed\")\n",
    "            continue\n",
    "\n",
    "        t_usr = tfv.transform([cleanup(usr.strip().lower())])\n",
    "        class_ = le.inverse_transform(model.predict(t_usr)[0])\n",
    "        questionset = data[data['Class']==class_]\n",
    "\n",
    "        if DEBUG:\n",
    "            print(\"Question classified under category:\", class_)\n",
    "            print(\"{} Questions belong to this class\".format(len(questionset)))\n",
    "\n",
    "        cos_sims = []\n",
    "        for question in questionset['Question']:\n",
    "            sims = cosine_similarity(tfv.transform([question]), t_usr)\n",
    "            cos_sims.append(sims)\n",
    "            \n",
    "        ind = cos_sims.index(max(cos_sims))\n",
    "\n",
    "        if DEBUG:\n",
    "            question = questionset[\"Question\"][questionset.index[ind]]\n",
    "            print(\"Assuming you asked: {}\".format(question))\n",
    "\n",
    "        if not TOP5:\n",
    "            print(\"Bot:\", data['Answer'][questionset.index[ind]])\n",
    "        else:\n",
    "            inds = get_max5(cos_sims)\n",
    "            for ix in inds:\n",
    "                print(\"Question: \"+data['Question'][questionset.index[ix]])\n",
    "                print(\"Answer: \"+data['Answer'][questionset.index[ix]])\n",
    "                print('-'*50)\n",
    "\n",
    "        print(\"\\n\"*2)\n",
    "        outcome = input(\"Was this answer helpful? Yes/No: \").lower().strip()\n",
    "        if outcome == 'yes':\n",
    "            cnt = 0\n",
    "        elif outcome == 'no':\n",
    "            inds = get_max5(cos_sims)\n",
    "            sugg_choice = input(\"Bot: Do you want me to suggest you questions ? Yes/No: \").lower()\n",
    "            if sugg_choice == 'yes':\n",
    "                q_cnt = 1\n",
    "                for ix in inds:\n",
    "                    print(q_cnt,\"Question: \"+data['Question'][questionset.index[ix]])\n",
    "                    # print(\"Answer: \"+data['Answer'][questionset.index[ix]])\n",
    "                    print('-'*50)\n",
    "                    q_cnt += 1\n",
    "                num = int(input(\"Please enter the question number you find most relevant: \"))\n",
    "                print(\"Bot: \", data['Answer'][questionset.index[inds[num-1]]])"
   ]
  },
  {
   "cell_type": "markdown",
   "metadata": {},
   "source": [
    "# Upload Data"
   ]
  },
  {
   "cell_type": "code",
   "execution_count": 3,
   "metadata": {},
   "outputs": [],
   "source": [
    "data = pd.read_csv('BankFAQs.csv')\n",
    "questions = data['Question'].values"
   ]
  },
  {
   "cell_type": "code",
   "execution_count": null,
   "metadata": {},
   "outputs": [],
   "source": [
    "#"
   ]
  },
  {
   "cell_type": "code",
   "execution_count": null,
   "metadata": {},
   "outputs": [],
   "source": [
    "X = []\n",
    "for question in questions:\n",
    "    X.append(cleanup(question))\n",
    "\n",
    "tfv.fit(X)\n",
    "le.fit(data['Class'])\n",
    "\n",
    "X = tfv.transform(X)\n",
    "y = le.transform(data['Class'])"
   ]
  },
  {
   "cell_type": "code",
   "execution_count": 6,
   "metadata": {},
   "outputs": [
    {
     "name": "stdout",
     "output_type": "stream",
     "text": [
      "SVC: 0.927437641723356\n"
     ]
    }
   ],
   "source": [
    "trainx, testx, trainy, testy = tts(X, y, test_size=.25, random_state=42)\n",
    "\n",
    "model = SVC(kernel='linear')\n",
    "model.fit(trainx, trainy)\n",
    "print(\"SVC:\", model.score(testx, testy))"
   ]
  },
  {
   "cell_type": "code",
   "execution_count": null,
   "metadata": {},
   "outputs": [
    {
     "name": "stdout",
     "output_type": "stream",
     "text": [
      "PRESS Q to QUIT\n",
      "TYPE \"DEBUG\" to Display Debugging statements.\n",
      "TYPE \"STOP\" to Stop Debugging statements.\n",
      "TYPE \"TOP5\" to Display 5 most relevent results\n",
      "TYPE \"CONF\" to Display the most confident result\n",
      "\n",
      "\n",
      "Bot: Hi, Welcome to our bank!\n",
      "You: TOP5\n",
      "Will display 5 most relevent results now\n",
      "You: CONF\n",
      "Only the most relevent result will be displayed\n"
     ]
    }
   ],
   "source": [
    "chat()"
   ]
  },
  {
   "cell_type": "code",
   "execution_count": null,
   "metadata": {},
   "outputs": [],
   "source": []
  }
 ],
 "metadata": {
  "kernelspec": {
   "display_name": "Python 3",
   "language": "python",
   "name": "python3"
  },
  "language_info": {
   "codemirror_mode": {
    "name": "ipython",
    "version": 3
   },
   "file_extension": ".py",
   "mimetype": "text/x-python",
   "name": "python",
   "nbconvert_exporter": "python",
   "pygments_lexer": "ipython3",
   "version": "3.7.1"
  }
 },
 "nbformat": 4,
 "nbformat_minor": 2
}
